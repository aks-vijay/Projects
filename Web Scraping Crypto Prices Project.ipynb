{
 "cells": [
  {
   "cell_type": "code",
   "execution_count": 92,
   "id": "b23ab8c8",
   "metadata": {},
   "outputs": [],
   "source": [
    "# import libraries\n",
    "\n",
    "from bs4 import BeautifulSoup\n",
    "import requests\n",
    "import time\n",
    "import datetime\n",
    "import smtplib\n"
   ]
  },
  {
   "cell_type": "code",
   "execution_count": 109,
   "id": "eda7078d",
   "metadata": {},
   "outputs": [],
   "source": [
    "# Connect to website\n",
    "\n",
    "URL = 'https://www.bitcoinprice.com/'\n",
    "\n",
    "headers = {\"User-Agent\": \"Mozilla/5.0 (Macintosh; Intel Mac OS X 10_15_7) AppleWebKit/537.36 (KHTML, like Gecko) Chrome/92.0.4515.159 Safari/537.36\"\n",
    "           ,\"Accept-Encoding\":\"gzip, deflate\", \"Accept\": \"text/html,application/xhtml+xml,application/xml;q=0.9,image/avif,image/webp,image/apng,*/*;q=0.8,application/signed-exchange;v=b3;q=0.9\", \n",
    "           \"DNT\":\"1\",\"Connection\":\"close\", \"Upgrade-Insecure-Requests\":\"1\"}\n",
    "\n",
    "page = requests.get(URL, headers=headers)\n",
    "\n",
    "soup1 = BeautifulSoup(page.content, \"html.parser\")\n",
    "\n",
    "soup2 = BeautifulSoup(soup1.prettify(), \"html.parser\")\n",
    "\n",
    "title = 'Bitcoin'\n",
    "\n",
    "price = soup2.find(id='price').get_text()"
   ]
  },
  {
   "cell_type": "code",
   "execution_count": 110,
   "id": "0c90f717",
   "metadata": {},
   "outputs": [],
   "source": [
    "price = price.strip()[1:]"
   ]
  },
  {
   "cell_type": "code",
   "execution_count": 95,
   "id": "e29fc995",
   "metadata": {},
   "outputs": [],
   "source": [
    "today = datetime.date.today()"
   ]
  },
  {
   "cell_type": "code",
   "execution_count": 96,
   "id": "e461fcd8",
   "metadata": {},
   "outputs": [],
   "source": [
    "import csv \n",
    "\n",
    "header = ['Title', 'Price','Date']\n",
    "data = [title, price, today]\n",
    "\n",
    "with open('BitcoinPrice.csv','w', newline = '', encoding = 'UTF8') as f:\n",
    "    writer = csv.writer(f)\n",
    "    writer.writerow(header)\n",
    "    writer.writerow(data)"
   ]
  },
  {
   "cell_type": "code",
   "execution_count": 97,
   "id": "4bff4495",
   "metadata": {},
   "outputs": [
    {
     "name": "stdout",
     "output_type": "stream",
     "text": [
      "     Title     Price        Date\n",
      "0  Bitcoin  47388.31  2021-08-30\n"
     ]
    }
   ],
   "source": [
    "import pandas as pd\n",
    "\n",
    "df = pd.read_csv(r'/Users/akshay/Desktop/python/BitcoinPrice.csv')\n",
    "print(df)"
   ]
  },
  {
   "cell_type": "code",
   "execution_count": 98,
   "id": "adf491e5",
   "metadata": {},
   "outputs": [],
   "source": [
    "# appending data to csv\n",
    "\n",
    "with open('BitcoinPrice.csv','a', newline = '', encoding = 'UTF8') as f:\n",
    "    writer = csv.writer(f)\n",
    "    writer.writerow(data)"
   ]
  },
  {
   "cell_type": "code",
   "execution_count": 99,
   "id": "395fafa6",
   "metadata": {},
   "outputs": [],
   "source": [
    "def check_price():\n",
    "    URL = 'https://www.bitcoinprice.com/'\n",
    "    headers = {\"User-Agent\": \"Mozilla/5.0 (Macintosh; Intel Mac OS X 10_15_7) AppleWebKit/537.36 (KHTML, like Gecko) Chrome/92.0.4515.159 Safari/537.36\"\n",
    "           ,\"Accept-Encoding\":\"gzip, deflate\", \"Accept\": \"text/html,application/xhtml+xml,application/xml;q=0.9,image/avif,image/webp,image/apng,*/*;q=0.8,application/signed-exchange;v=b3;q=0.9\", \n",
    "           \"DNT\":\"1\",\"Connection\":\"close\", \"Upgrade-Insecure-Requests\":\"1\"}\n",
    "\n",
    "    page = requests.get(URL, headers=headers)\n",
    "\n",
    "    soup1 = BeautifulSoup(page.content, \"html.parser\")\n",
    "    soup2 = BeautifulSoup(soup1.prettify(), \"html.parser\")\n",
    "\n",
    "    title = 'Bitcoin'\n",
    "    price = soup2.find(id='price').get_text()\n",
    "    \n",
    "    # clean the data\n",
    "    price = price.strip()[1:]\n",
    "    today = datetime.date.today()\n",
    "    \n",
    "    # write the data in csv\n",
    "    import csv \n",
    "\n",
    "    header = ['Title', 'Price','Date']\n",
    "    data = [title, price, today]\n",
    "    \n",
    "    with open('BitcoinPrice.csv','a', newline = '', encoding = 'UTF8') as f:\n",
    "        writer = csv.writer(f)\n",
    "        writer.writerow(data)"
   ]
  },
  {
   "cell_type": "code",
   "execution_count": 100,
   "id": "88bdaea9",
   "metadata": {},
   "outputs": [
    {
     "name": "stdout",
     "output_type": "stream",
     "text": [
      "     Title     Price        Date\n",
      "0  Bitcoin  47388.31  2021-08-30\n",
      "1  Bitcoin  47388.31  2021-08-30\n"
     ]
    }
   ],
   "source": [
    "import pandas as pd\n",
    "\n",
    "df = pd.read_csv(r'/Users/akshay/Desktop/python/BitcoinPrice.csv')\n",
    "print(df)"
   ]
  },
  {
   "cell_type": "code",
   "execution_count": 117,
   "id": "b72581f6",
   "metadata": {},
   "outputs": [],
   "source": [
    "def send_mail():\n",
    "    server = smtplib.SMTP_SSL('smtp.gmail.com',25)\n",
    "    server.ehlo()\n",
    "    server.ehlo()\n",
    "    server.login('vijayakshaysankar@gmail.com','xxxxxxxxxxxxxx')\n",
    "    \n",
    "    subject = \"Bitcoin Price dropped!\"\n",
    "    body = \"Hey, you need to buy some bitcoins! The price is only $\", price\n",
    "   \n",
    "    msg = f\"Subject: {subject}\\n\\n{body}\"\n",
    "    \n",
    "    server.sendmail(\n",
    "        'vijayakshaysankar@gmail.com',\n",
    "        msg\n",
    "    )"
   ]
  },
  {
   "cell_type": "code",
   "execution_count": 119,
   "id": "b5cb0212",
   "metadata": {},
   "outputs": [],
   "source": [
    "if float(price) <= 30000:\n",
    "    send_email()"
   ]
  }
 ],
 "metadata": {
  "kernelspec": {
   "display_name": "Python 3",
   "language": "python",
   "name": "python3"
  },
  "language_info": {
   "codemirror_mode": {
    "name": "ipython",
    "version": 3
   },
   "file_extension": ".py",
   "mimetype": "text/x-python",
   "name": "python",
   "nbconvert_exporter": "python",
   "pygments_lexer": "ipython3",
   "version": "3.8.8"
  }
 },
 "nbformat": 4,
 "nbformat_minor": 5
}
